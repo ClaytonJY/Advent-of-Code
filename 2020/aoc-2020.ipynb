{
 "cells": [
  {
   "cell_type": "markdown",
   "metadata": {},
   "source": [
    "# Advent of Code 2020\n",
    "\n",
    "<https://adventofcode.com/2020>\n",
    "\n",
    "\n",
    "## Setup"
   ]
  },
  {
   "cell_type": "code",
   "execution_count": 1,
   "metadata": {},
   "outputs": [],
   "source": [
    "# imports\n",
    "import re\n",
    "\n",
    "from collections.abc import Iterator\n",
    "from dataclasses import dataclass\n",
    "from pathlib import Path\n",
    "from itertools import combinations\n",
    "from typing import Literal, Optional"
   ]
  },
  {
   "cell_type": "code",
   "execution_count": 2,
   "metadata": {},
   "outputs": [],
   "source": [
    "# useful globals\n",
    "DATA_DIR=Path(\"aoc_202/data\")"
   ]
  },
  {
   "cell_type": "code",
   "execution_count": 3,
   "metadata": {},
   "outputs": [],
   "source": [
    "# helper functions\n",
    "\n",
    "def lines(day: int) -> Iterator[str]:\n",
    "    input: Path = DATA_DIR / f\"{day}.txt\"\n",
    "    with input.open() as f:\n",
    "        for line in f:\n",
    "            yield line.strip()"
   ]
  },
  {
   "cell_type": "markdown",
   "metadata": {},
   "source": [
    "## Day 1\n",
    "\n",
    "Given a list of numbers, find the two that _sum_ to 2020, then multiply them to get the final answer.\n",
    "\n",
    "I guess I can just brute-force this, and use a generator over the lines "
   ]
  },
  {
   "cell_type": "code",
   "execution_count": 4,
   "metadata": {},
   "outputs": [
    {
     "ename": "FileNotFoundError",
     "evalue": "[Errno 2] No such file or directory: 'data/1.txt'",
     "output_type": "error",
     "traceback": [
      "\u001b[0;31m---------------------------------------------------------------------------\u001b[0m",
      "\u001b[0;31mFileNotFoundError\u001b[0m                         Traceback (most recent call last)",
      "\u001b[1;32m/home/claytonjy/src/advent-of-code/2020/aoc-2020.ipynb Cell 6\u001b[0m in \u001b[0;36m<cell line: 2>\u001b[0;34m()\u001b[0m\n\u001b[1;32m      <a href='vscode-notebook-cell:/home/claytonjy/src/advent-of-code/2020/aoc-2020.ipynb#W5sZmlsZQ%3D%3D?line=0'>1</a>\u001b[0m numbers \u001b[39m=\u001b[39m []\n\u001b[0;32m----> <a href='vscode-notebook-cell:/home/claytonjy/src/advent-of-code/2020/aoc-2020.ipynb#W5sZmlsZQ%3D%3D?line=1'>2</a>\u001b[0m \u001b[39mfor\u001b[39;00m line \u001b[39min\u001b[39;00m lines(\u001b[39m1\u001b[39m):\n\u001b[1;32m      <a href='vscode-notebook-cell:/home/claytonjy/src/advent-of-code/2020/aoc-2020.ipynb#W5sZmlsZQ%3D%3D?line=2'>3</a>\u001b[0m     number \u001b[39m=\u001b[39m \u001b[39mint\u001b[39m(line)\n\u001b[1;32m      <a href='vscode-notebook-cell:/home/claytonjy/src/advent-of-code/2020/aoc-2020.ipynb#W5sZmlsZQ%3D%3D?line=3'>4</a>\u001b[0m     \u001b[39mfor\u001b[39;00m n \u001b[39min\u001b[39;00m numbers:\n",
      "\u001b[1;32m/home/claytonjy/src/advent-of-code/2020/aoc-2020.ipynb Cell 6\u001b[0m in \u001b[0;36mlines\u001b[0;34m(day)\u001b[0m\n\u001b[1;32m      <a href='vscode-notebook-cell:/home/claytonjy/src/advent-of-code/2020/aoc-2020.ipynb#W5sZmlsZQ%3D%3D?line=2'>3</a>\u001b[0m \u001b[39mdef\u001b[39;00m \u001b[39mlines\u001b[39m(day: \u001b[39mint\u001b[39m) \u001b[39m-\u001b[39m\u001b[39m>\u001b[39m Iterator[\u001b[39mstr\u001b[39m]:\n\u001b[1;32m      <a href='vscode-notebook-cell:/home/claytonjy/src/advent-of-code/2020/aoc-2020.ipynb#W5sZmlsZQ%3D%3D?line=3'>4</a>\u001b[0m     \u001b[39minput\u001b[39m: Path \u001b[39m=\u001b[39m DATA_DIR \u001b[39m/\u001b[39m \u001b[39mf\u001b[39m\u001b[39m\"\u001b[39m\u001b[39m{\u001b[39;00mday\u001b[39m}\u001b[39;00m\u001b[39m.txt\u001b[39m\u001b[39m\"\u001b[39m\n\u001b[0;32m----> <a href='vscode-notebook-cell:/home/claytonjy/src/advent-of-code/2020/aoc-2020.ipynb#W5sZmlsZQ%3D%3D?line=4'>5</a>\u001b[0m     \u001b[39mwith\u001b[39;00m \u001b[39minput\u001b[39;49m\u001b[39m.\u001b[39;49mopen() \u001b[39mas\u001b[39;00m f:\n\u001b[1;32m      <a href='vscode-notebook-cell:/home/claytonjy/src/advent-of-code/2020/aoc-2020.ipynb#W5sZmlsZQ%3D%3D?line=5'>6</a>\u001b[0m         \u001b[39mfor\u001b[39;00m line \u001b[39min\u001b[39;00m f:\n\u001b[1;32m      <a href='vscode-notebook-cell:/home/claytonjy/src/advent-of-code/2020/aoc-2020.ipynb#W5sZmlsZQ%3D%3D?line=6'>7</a>\u001b[0m             \u001b[39myield\u001b[39;00m line\u001b[39m.\u001b[39mstrip()\n",
      "File \u001b[0;32m/usr/lib/python3.10/pathlib.py:1119\u001b[0m, in \u001b[0;36mPath.open\u001b[0;34m(self, mode, buffering, encoding, errors, newline)\u001b[0m\n\u001b[1;32m   1117\u001b[0m \u001b[39mif\u001b[39;00m \u001b[39m\"\u001b[39m\u001b[39mb\u001b[39m\u001b[39m\"\u001b[39m \u001b[39mnot\u001b[39;00m \u001b[39min\u001b[39;00m mode:\n\u001b[1;32m   1118\u001b[0m     encoding \u001b[39m=\u001b[39m io\u001b[39m.\u001b[39mtext_encoding(encoding)\n\u001b[0;32m-> 1119\u001b[0m \u001b[39mreturn\u001b[39;00m \u001b[39mself\u001b[39;49m\u001b[39m.\u001b[39;49m_accessor\u001b[39m.\u001b[39;49mopen(\u001b[39mself\u001b[39;49m, mode, buffering, encoding, errors,\n\u001b[1;32m   1120\u001b[0m                            newline)\n",
      "\u001b[0;31mFileNotFoundError\u001b[0m: [Errno 2] No such file or directory: 'data/1.txt'"
     ]
    }
   ],
   "source": [
    "numbers = []\n",
    "for line in lines(1):\n",
    "    number = int(line)\n",
    "    for n in numbers:\n",
    "        if n + number == 2020:\n",
    "            print(n * number)\n",
    "            break\n",
    "    numbers.append(number)"
   ]
  },
  {
   "cell_type": "code",
   "execution_count": 5,
   "metadata": {},
   "outputs": [
    {
     "name": "stdout",
     "output_type": "stream",
     "text": [
      "49214880\n"
     ]
    }
   ],
   "source": [
    "seen = []\n",
    "for line in lines(1):\n",
    "    current = int(line)\n",
    "    for a, b in combinations(seen, 2):\n",
    "        if (a + b + current) == 2020:\n",
    "            print(a*b*current)\n",
    "            break\n",
    "    seen.append(current)"
   ]
  },
  {
   "cell_type": "markdown",
   "metadata": {},
   "source": [
    "## Day 2\n",
    "\n",
    "A password policy \"1-3 a\" means the letter \"a\" must appear 1-3 times in the password. How many policy-password pairs from the file are valid?"
   ]
  },
  {
   "cell_type": "code",
   "execution_count": 6,
   "metadata": {},
   "outputs": [],
   "source": [
    "@dataclass\n",
    "class Policy:\n",
    "    letter: str\n",
    "    min: int\n",
    "    max: int\n",
    "\n",
    "    def is_valid(self, password: str) -> bool:\n",
    "        n = password.count(self.letter)\n",
    "        return (self.min <= n) and (n <= self.max)\n",
    "\n",
    "    def is_valid2(self, password: str) -> bool:\n",
    "        return (password[self.min-1] == self.letter) ^ (password[self.max-1] == self.letter)\n",
    "\n",
    "    @classmethod\n",
    "    def from_line(cls, line: str):\n",
    "        \"\"\"1-3 a\"\"\"\n",
    "        numbers, letter = line.split(\" \")\n",
    "        min, max = [int(x) for x in numbers.split(\"-\")]\n",
    "        return cls(letter, min, max)"
   ]
  },
  {
   "cell_type": "code",
   "execution_count": 7,
   "metadata": {},
   "outputs": [
    {
     "name": "stdout",
     "output_type": "stream",
     "text": [
      "[460, 251]\n"
     ]
    }
   ],
   "source": [
    "valid = [0, 0]\n",
    "for line in lines(2):\n",
    "    policy_text, password = line.split(\": \")\n",
    "    policy = Policy.from_line(policy_text)\n",
    "    if policy.is_valid(password):\n",
    "        valid[0] += 1\n",
    "    if policy.is_valid2(password):\n",
    "        valid[1] += 1\n",
    "\n",
    "print(valid)"
   ]
  },
  {
   "cell_type": "markdown",
   "metadata": {},
   "source": [
    "## Day 3"
   ]
  },
  {
   "cell_type": "code",
   "execution_count": 8,
   "metadata": {},
   "outputs": [
    {
     "name": "stdout",
     "output_type": "stream",
     "text": [
      "265\n"
     ]
    }
   ],
   "source": [
    "column = 0\n",
    "trees = 0\n",
    "for line in lines(3):\n",
    "    row = [x == \"#\" for x in line]\n",
    "    trees += row[column % len(row)]\n",
    "    column += 3\n",
    "\n",
    "print(trees)\n"
   ]
  },
  {
   "cell_type": "markdown",
   "metadata": {},
   "source": [
    "### Part 2\n",
    "\n",
    "Welp now we have to totally restructure part 1 so it's easier to input different row/column strides."
   ]
  },
  {
   "cell_type": "code",
   "execution_count": 9,
   "metadata": {},
   "outputs": [
    {
     "name": "stdout",
     "output_type": "stream",
     "text": [
      "3154761400\n"
     ]
    }
   ],
   "source": [
    "landscape: list[list[bool]] = []\n",
    "for line in lines(3):\n",
    "    row = [x == \"#\" for x in line]\n",
    "    landscape.append(row)\n",
    "\n",
    "def trees_in_path(landscape, right: int, down: int) -> int:\n",
    "    trees = 0\n",
    "    row, column = 0, 0\n",
    "    while row < len(landscape):\n",
    "        trees += landscape[row][column % len(landscape[0])]\n",
    "        row += down\n",
    "        column += right\n",
    "    return trees\n",
    "\n",
    "paths = [\n",
    "    (1, 1),\n",
    "    (3, 1),\n",
    "    (5, 1),\n",
    "    (7, 1),\n",
    "    (1, 2)\n",
    "]\n",
    "\n",
    "total=1\n",
    "for path in paths:\n",
    "    total *= trees_in_path(landscape, *path)\n",
    "\n",
    "print(total)"
   ]
  },
  {
   "cell_type": "code",
   "execution_count": 10,
   "metadata": {},
   "outputs": [
    {
     "data": {
      "text/plain": [
       "(323, 31)"
      ]
     },
     "execution_count": 10,
     "metadata": {},
     "output_type": "execute_result"
    }
   ],
   "source": [
    "len(landscape), len(landscape[0])"
   ]
  },
  {
   "cell_type": "markdown",
   "metadata": {},
   "source": [
    "# Day 4\n",
    "\n",
    "Looks like we have to get a bit weirder with our parsing..."
   ]
  },
  {
   "cell_type": "code",
   "execution_count": 11,
   "metadata": {},
   "outputs": [
    {
     "name": "stdout",
     "output_type": "stream",
     "text": [
      "216\n"
     ]
    }
   ],
   "source": [
    "required_fields = (\n",
    "    \"byr\",\n",
    "    \"iyr\",\n",
    "    \"eyr\",\n",
    "    \"hgt\",\n",
    "    \"hcl\",\n",
    "    \"ecl\",\n",
    "    \"pid\",\n",
    "    # \"cid\",  # optional\n",
    ")\n",
    "\n",
    "valid = 0\n",
    "passport = \"\"\n",
    "for line in lines(4):\n",
    "    if line:\n",
    "        passport += \" \"+line\n",
    "    else:\n",
    "        if all([x in passport for x in required_fields]):\n",
    "            valid += 1\n",
    "        passport = \"\"\n",
    "if all([x in passport for x in required_fields]):\n",
    "            valid += 1\n",
    "\n",
    "print(valid)"
   ]
  },
  {
   "cell_type": "code",
   "execution_count": 12,
   "metadata": {},
   "outputs": [],
   "source": [
    "@dataclass\n",
    "class Passport:\n",
    "    byr: int\n",
    "    iyr: int\n",
    "    eyr: int\n",
    "    hgt: str\n",
    "    hcl: str\n",
    "    ecl: Literal[\"amb\", \"blu\", \"brn\", \"gry\", \"grn\", \"hzl\", \"oth\"]\n",
    "    pid: str\n",
    "    cid: Optional[str] = None\n",
    "\n",
    "    @classmethod\n",
    "    def from_str(cls, input):\n",
    "        fields = {k: v for k, v in [field.split(\":\") for field in input.split()]}\n",
    "\n",
    "        return cls(**fields)\n",
    "    \n",
    "    def is_valid(self) -> bool:\n",
    "\n",
    "        try:\n",
    "            assert 1920 <= self.byr and self.byr <= 2002\n",
    "\n",
    "            assert 2010 <= self.iyr and self.iyr <= 2020\n",
    "\n",
    "            assert 2020 <= self.eyr and self.eyr <= 2030\n",
    "\n",
    "            if self.hgt[:2] == \"cm\":\n",
    "                height = int(self.hgt[:-2])\n",
    "                assert 150 <= height and height <= 193\n",
    "            elif self.hgt[:2] == \"in\":\n",
    "                height = int(self.hgt[:-2])\n",
    "                assert 59 <= height and height <= 76\n",
    "\n",
    "            assert re.match(\"#[0-9a-f]{6}\", self.hcl)\n",
    "\n",
    "            assert re.match(\"[0-9]{9}\", self.pid)\n",
    "\n",
    "\n",
    "        except AssertionError:\n",
    "            return False\n",
    "        \n",
    "        return True"
   ]
  },
  {
   "cell_type": "code",
   "execution_count": 13,
   "metadata": {},
   "outputs": [
    {
     "name": "stdout",
     "output_type": "stream",
     "text": [
      "0\n"
     ]
    }
   ],
   "source": [
    "valid = 0\n",
    "buffer = \"\"\n",
    "for line in lines(4):\n",
    "    if line:\n",
    "        buffer += \" \"+line\n",
    "    else:\n",
    "        try:\n",
    "            passport = Passport.from_str(buffer)\n",
    "            valid += passport.is_valid()\n",
    "        except:\n",
    "            pass\n",
    "\n",
    "try:\n",
    "    passport = Passport.from_str(buffer)\n",
    "    valid += passport.is_valid()\n",
    "except:\n",
    "    pass\n",
    "\n",
    "print(valid)"
   ]
  },
  {
   "cell_type": "code",
   "execution_count": 14,
   "metadata": {},
   "outputs": [
    {
     "ename": "TypeError",
     "evalue": "'<=' not supported between instances of 'int' and 'str'",
     "output_type": "error",
     "traceback": [
      "\u001b[0;31m---------------------------------------------------------------------------\u001b[0m",
      "\u001b[0;31mTypeError\u001b[0m                                 Traceback (most recent call last)",
      "\u001b[1;32m/home/claytonjy/src/advent-of-code/2020/aoc-2020.ipynb Cell 20\u001b[0m in \u001b[0;36m<cell line: 2>\u001b[0;34m()\u001b[0m\n\u001b[1;32m      <a href='vscode-notebook-cell:/home/claytonjy/src/advent-of-code/2020/aoc-2020.ipynb#X25sZmlsZQ%3D%3D?line=0'>1</a>\u001b[0m passport \u001b[39m=\u001b[39m Passport\u001b[39m.\u001b[39mfrom_str(\u001b[39m\"\u001b[39m\u001b[39miyr:2010 hgt:158cm hcl:#b6652a ecl:blu byr:1944 eyr:2021 pid:093154719\u001b[39m\u001b[39m\"\u001b[39m)\n\u001b[0;32m----> <a href='vscode-notebook-cell:/home/claytonjy/src/advent-of-code/2020/aoc-2020.ipynb#X25sZmlsZQ%3D%3D?line=1'>2</a>\u001b[0m passport\u001b[39m.\u001b[39;49mis_valid()\n",
      "\u001b[1;32m/home/claytonjy/src/advent-of-code/2020/aoc-2020.ipynb Cell 20\u001b[0m in \u001b[0;36mPassport.is_valid\u001b[0;34m(self)\u001b[0m\n\u001b[1;32m     <a href='vscode-notebook-cell:/home/claytonjy/src/advent-of-code/2020/aoc-2020.ipynb#X25sZmlsZQ%3D%3D?line=17'>18</a>\u001b[0m \u001b[39mdef\u001b[39;00m \u001b[39mis_valid\u001b[39m(\u001b[39mself\u001b[39m) \u001b[39m-\u001b[39m\u001b[39m>\u001b[39m \u001b[39mbool\u001b[39m:\n\u001b[1;32m     <a href='vscode-notebook-cell:/home/claytonjy/src/advent-of-code/2020/aoc-2020.ipynb#X25sZmlsZQ%3D%3D?line=19'>20</a>\u001b[0m     \u001b[39mtry\u001b[39;00m:\n\u001b[0;32m---> <a href='vscode-notebook-cell:/home/claytonjy/src/advent-of-code/2020/aoc-2020.ipynb#X25sZmlsZQ%3D%3D?line=20'>21</a>\u001b[0m         \u001b[39massert\u001b[39;00m \u001b[39m1920\u001b[39;49m \u001b[39m<\u001b[39;49m\u001b[39m=\u001b[39;49m \u001b[39mself\u001b[39;49m\u001b[39m.\u001b[39;49mbyr \u001b[39mand\u001b[39;00m \u001b[39mself\u001b[39m\u001b[39m.\u001b[39mbyr \u001b[39m<\u001b[39m\u001b[39m=\u001b[39m \u001b[39m2002\u001b[39m\n\u001b[1;32m     <a href='vscode-notebook-cell:/home/claytonjy/src/advent-of-code/2020/aoc-2020.ipynb#X25sZmlsZQ%3D%3D?line=22'>23</a>\u001b[0m         \u001b[39massert\u001b[39;00m \u001b[39m2010\u001b[39m \u001b[39m<\u001b[39m\u001b[39m=\u001b[39m \u001b[39mself\u001b[39m\u001b[39m.\u001b[39miyr \u001b[39mand\u001b[39;00m \u001b[39mself\u001b[39m\u001b[39m.\u001b[39miyr \u001b[39m<\u001b[39m\u001b[39m=\u001b[39m \u001b[39m2020\u001b[39m\n\u001b[1;32m     <a href='vscode-notebook-cell:/home/claytonjy/src/advent-of-code/2020/aoc-2020.ipynb#X25sZmlsZQ%3D%3D?line=24'>25</a>\u001b[0m         \u001b[39massert\u001b[39;00m \u001b[39m2020\u001b[39m \u001b[39m<\u001b[39m\u001b[39m=\u001b[39m \u001b[39mself\u001b[39m\u001b[39m.\u001b[39meyr \u001b[39mand\u001b[39;00m \u001b[39mself\u001b[39m\u001b[39m.\u001b[39meyr \u001b[39m<\u001b[39m\u001b[39m=\u001b[39m \u001b[39m2030\u001b[39m\n",
      "\u001b[0;31mTypeError\u001b[0m: '<=' not supported between instances of 'int' and 'str'"
     ]
    }
   ],
   "source": [
    "passport = Passport.from_str(\"iyr:2010 hgt:158cm hcl:#b6652a ecl:blu byr:1944 eyr:2021 pid:093154719\")\n",
    "passport.is_valid()"
   ]
  },
  {
   "cell_type": "code",
   "execution_count": null,
   "metadata": {},
   "outputs": [],
   "source": []
  }
 ],
 "metadata": {
  "interpreter": {
   "hash": "bc36f484b54e0ccdc591160183e474ff1c282e00e346d88ca10a84d8e2fd13d9"
  },
  "kernelspec": {
   "display_name": "Python 3.10.4 ('.venv': poetry)",
   "language": "python",
   "name": "python3"
  },
  "language_info": {
   "codemirror_mode": {
    "name": "ipython",
    "version": 3
   },
   "file_extension": ".py",
   "mimetype": "text/x-python",
   "name": "python",
   "nbconvert_exporter": "python",
   "pygments_lexer": "ipython3",
   "version": "3.10.6"
  },
  "orig_nbformat": 4
 },
 "nbformat": 4,
 "nbformat_minor": 2
}
