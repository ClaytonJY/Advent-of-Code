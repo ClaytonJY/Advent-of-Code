{
 "cells": [
  {
   "cell_type": "markdown",
   "metadata": {},
   "source": [
    "# Advent of Code 2022\n",
    "\n",
    "[website](https://adventofcode.com/2022)\n",
    "\n",
    "Here we go again!"
   ]
  },
  {
   "cell_type": "markdown",
   "metadata": {},
   "source": [
    "## Day 1\n",
    "\n",
    "For the example"
   ]
  },
  {
   "cell_type": "code",
   "execution_count": 1,
   "metadata": {},
   "outputs": [],
   "source": [
    "EXAMPLE = \"\"\"\n",
    "1000\n",
    "2000\n",
    "3000\n",
    "\n",
    "4000\n",
    "\n",
    "5000\n",
    "6000\n",
    "\n",
    "7000\n",
    "8000\n",
    "9000\n",
    "\n",
    "10000\n",
    "\"\"\""
   ]
  },
  {
   "cell_type": "markdown",
   "metadata": {},
   "source": [
    "We treat each line as a weight of an item, and each blankline-delimited block as the items for a person."
   ]
  },
  {
   "cell_type": "code",
   "execution_count": 2,
   "metadata": {},
   "outputs": [
    {
     "data": {
      "text/plain": [
       "['1000',\n",
       " '2000',\n",
       " '3000',\n",
       " '',\n",
       " '4000',\n",
       " '',\n",
       " '5000',\n",
       " '6000',\n",
       " '',\n",
       " '7000',\n",
       " '8000',\n",
       " '9000',\n",
       " '',\n",
       " '10000']"
      ]
     },
     "execution_count": 2,
     "metadata": {},
     "output_type": "execute_result"
    }
   ],
   "source": [
    "from typing import Iterator\n",
    "\n",
    "\n",
    "def read_example(example: str = EXAMPLE) -> Iterator[str]:\n",
    "    return (line for line in example.strip().split(\"\\n\"))\n",
    "\n",
    "list(read_example())"
   ]
  },
  {
   "cell_type": "code",
   "execution_count": 3,
   "metadata": {},
   "outputs": [
    {
     "data": {
      "text/plain": [
       "[Elf(weights=(1000, 2000, 3000)),\n",
       " Elf(weights=(4000,)),\n",
       " Elf(weights=(5000, 6000)),\n",
       " Elf(weights=(7000, 8000, 9000)),\n",
       " Elf(weights=(10000,))]"
      ]
     },
     "execution_count": 3,
     "metadata": {},
     "output_type": "execute_result"
    }
   ],
   "source": [
    "from dataclasses import dataclass\n",
    "from functools import cache\n",
    "\n",
    "\n",
    "@dataclass(frozen=True)\n",
    "class Elf:\n",
    "    weights: tuple[int]\n",
    "\n",
    "    @cache\n",
    "    def total(self):\n",
    "        return sum(self.weights)\n",
    "\n",
    "def parse_elves(input: Iterator[str]):\n",
    "    weights: list[int] = []\n",
    "    for line in input:\n",
    "        if line != \"\":\n",
    "            weights.append(int(line))\n",
    "        else:\n",
    "            yield Elf(tuple(weights))\n",
    "            weights = []\n",
    "\n",
    "    yield Elf(tuple(weights))\n",
    "\n",
    "list(parse_elves(read_example()))"
   ]
  },
  {
   "cell_type": "markdown",
   "metadata": {},
   "source": [
    "Finally, we need an argmax of the sums of each elf, and we know the answer should be 24000."
   ]
  },
  {
   "cell_type": "code",
   "execution_count": 4,
   "metadata": {},
   "outputs": [],
   "source": [
    "def argmax_total_weight(elves: Iterator[Elf]) -> int:\n",
    "    argmax: int = 0\n",
    "    for elf in elves:\n",
    "        argmax = max(argmax, elf.total())\n",
    "    return argmax\n",
    "\n",
    "assert argmax_total_weight(parse_elves(read_example())) == 24000"
   ]
  },
  {
   "cell_type": "markdown",
   "metadata": {},
   "source": [
    "### Part 1\n",
    "\n",
    "Now we need to repeat that process, but using the file `data/01.txt`."
   ]
  },
  {
   "cell_type": "code",
   "execution_count": 5,
   "metadata": {},
   "outputs": [
    {
     "data": {
      "text/plain": [
       "['5916',\n",
       " '7281',\n",
       " '1715',\n",
       " '3853',\n",
       " '10283',\n",
       " '1455',\n",
       " '7807',\n",
       " '6117',\n",
       " '',\n",
       " '33711',\n",
       " '6672',\n",
       " '',\n",
       " '3988',\n",
       " '6947',\n",
       " '1674',\n",
       " '1928',\n",
       " '6128',\n",
       " '6361',\n",
       " '3817',\n",
       " '6141',\n",
       " '3301',\n",
       " '5473',\n",
       " '2609',\n",
       " '4262',\n",
       " '6105',\n",
       " '',\n",
       " '2725',\n",
       " '7430',\n",
       " '7415',\n",
       " '6997']"
      ]
     },
     "execution_count": 5,
     "metadata": {},
     "output_type": "execute_result"
    }
   ],
   "source": [
    "from itertools import islice\n",
    "from pathlib import Path\n",
    "\n",
    "\n",
    "file = Path(\"data/01.txt\")\n",
    "\n",
    "def read_file(file: Path = Path(\"data/01.txt\")) -> Iterator[str]:\n",
    "    for line in file.open():\n",
    "        yield line.strip()\n",
    "\n",
    "list(islice(read_file(), 30))"
   ]
  },
  {
   "cell_type": "code",
   "execution_count": 6,
   "metadata": {},
   "outputs": [
    {
     "data": {
      "text/plain": [
       "71124"
      ]
     },
     "execution_count": 6,
     "metadata": {},
     "output_type": "execute_result"
    }
   ],
   "source": [
    "argmax_total_weight(parse_elves(read_file()))"
   ]
  },
  {
   "cell_type": "markdown",
   "metadata": {},
   "source": [
    "### Part 2\n",
    "\n",
    "For part 2, we need to identify the _top 3_ calorie-sums and add them together."
   ]
  },
  {
   "cell_type": "code",
   "execution_count": 7,
   "metadata": {},
   "outputs": [
    {
     "data": {
      "text/plain": [
       "204639"
      ]
     },
     "execution_count": 7,
     "metadata": {},
     "output_type": "execute_result"
    }
   ],
   "source": [
    "class TopN:\n",
    "    def __init__(self, n):\n",
    "        self.values: list[int, int, int] = [0]*n\n",
    "\n",
    "    def insert(self, x):\n",
    "        for i, value in enumerate(self.values):  # high to low\n",
    "            if x > value:\n",
    "                self.values = [*self.values[:i], x, *self.values[i:-1]]\n",
    "                break\n",
    "\n",
    "    def total(self):\n",
    "        return sum(self.values)\n",
    "\n",
    "def part_2(elves: Iterator[Elf]):\n",
    "    top_3 = TopN(3)\n",
    "    for elf in elves:\n",
    "        top_3.insert(elf.total())\n",
    "    return top_3.total()\n",
    "\n",
    "part_2(parse_elves(read_example())) == 45000\n",
    "\n",
    "part_2(parse_elves(read_file()))"
   ]
  },
  {
   "cell_type": "code",
   "execution_count": null,
   "metadata": {},
   "outputs": [],
   "source": []
  }
 ],
 "metadata": {
  "kernelspec": {
   "display_name": "Python 3.10.0 ('.venv': poetry)",
   "language": "python",
   "name": "python3"
  },
  "language_info": {
   "codemirror_mode": {
    "name": "ipython",
    "version": 3
   },
   "file_extension": ".py",
   "mimetype": "text/x-python",
   "name": "python",
   "nbconvert_exporter": "python",
   "pygments_lexer": "ipython3",
   "version": "3.10.0"
  },
  "orig_nbformat": 4,
  "vscode": {
   "interpreter": {
    "hash": "08b8e5e61ffe40fad12053a1c81e67c3bb8b249e487ab151634fda879899a425"
   }
  }
 },
 "nbformat": 4,
 "nbformat_minor": 2
}
